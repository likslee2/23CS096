{
 "cells": [
  {
   "cell_type": "code",
   "execution_count": 3,
   "metadata": {},
   "outputs": [],
   "source": [
    "import csv\n",
    "\n",
    "with open('CpuDataset.csv', 'r') as csv_file:\n",
    "    reader = csv.reader(csv_file)\n",
    "    header = next(reader)\n",
    "\n",
    "    modified_data = []\n",
    "    for row in reader:\n",
    "        row[7] = row[7].replace(' GHz', '')\n",
    "        row[8] = row[8].replace(' GHz', '')\n",
    "        modified_data.append(row)\n",
    "\n",
    "with open('CpuDataset_modified.csv', 'w', newline='') as csv_file:\n",
    "    writer = csv.writer(csv_file)\n",
    "    writer.writerow(header)\n",
    "    writer.writerows(modified_data)"
   ]
  },
  {
   "cell_type": "code",
   "execution_count": 25,
   "metadata": {},
   "outputs": [],
   "source": [
    "import csv\n",
    "\n",
    "with open('CpuDataset_modified.csv', 'r') as csv_file:\n",
    "    reader = csv.reader(csv_file)\n",
    "    next(reader, None)\n",
    "    modified_data = []\n",
    "    for row in reader:\n",
    "        memory_type = row[10].split(' - ')\n",
    "        memory_generation = memory_type[0]\n",
    "        memory_speed = memory_type[1]\n",
    "        memory_speed = memory_speed.replace(' MHz', '')\n",
    "\n",
    "        # Write the modified row to the new CSV file\n",
    "        data = [row[0], row[1], row[2], row[3], row[4], row[5], row[6], row[7], row[8], row[9], memory_generation, memory_speed, row[11]]\n",
    "        modified_data.append(data)\n",
    "\n",
    "with open('CpuDataset_modified_memory_split.csv', 'w', newline='') as csv_file:\n",
    "    writer = csv.writer(csv_file)\n",
    "    writer.writerow(['Title', 'Price', 'Brand', 'Model', 'Cores', 'Threads', 'Socket Type', 'Base Speed', 'Turbo Speed', 'Integrated Graphics', 'Memory Generation', 'Memory Speed', 'Link'])\n",
    "    writer.writerows(modified_data)\n",
    "\n",
    "       "
   ]
  },
  {
   "cell_type": "code",
   "execution_count": 30,
   "metadata": {},
   "outputs": [],
   "source": [
    "import pandas as pd\n",
    "\n",
    "df = pd.read_csv('MotherboardDataset.csv', encoding = 'unicode_escape')\n",
    "\n",
    "df['Memory slots'] = df['Memory slots'].str.replace(' Slots', '')\n",
    "df['Max memory support'] = df['Max memory support'].str.replace(' GB', '')\n",
    "df['Max memory support'] = df['Max memory support'].str.replace(' Gb', '')\n",
    "\n",
    "df.to_csv('motherboard_dataset.csv', index=False)"
   ]
  },
  {
   "cell_type": "code",
   "execution_count": 34,
   "metadata": {},
   "outputs": [],
   "source": [
    "import pandas as pd\n",
    "\n",
    "df = pd.read_csv('RamDataset.csv', encoding = 'unicode_escape')\n",
    "\n",
    "df['Ram size'] = df['Ram size'].str.replace(' GB', '')\n",
    "df['Quantity'] = df['Quantity'].str[0]\n",
    "df['Ram speed'] = df['Ram speed'].str.replace(' MHz', '')\n",
    "df['DIMM type'] = df['DIMM type'].str[:2]\n",
    "df['CAS latency'] = df['CAS latency'].str.replace('CL', '')\n",
    "\n",
    "df.to_csv('ram_dataset.csv', index=False)"
   ]
  },
  {
   "cell_type": "code",
   "execution_count": 38,
   "metadata": {},
   "outputs": [],
   "source": [
    "import pandas as pd\n",
    "\n",
    "df = pd.read_csv('StorageDataset.csv', encoding = 'unicode_escape')\n",
    "\n",
    "df['Capacity'] = df['Capacity'].str.replace(' GB', '')\n",
    "df['RPM'] = df['RPM'].str.replace(' RPM', '')\n",
    "\n",
    "df.to_csv('storage_dataset_dataset.csv', index=False)"
   ]
  },
  {
   "cell_type": "code",
   "execution_count": 1,
   "metadata": {},
   "outputs": [],
   "source": [
    "import pandas as pd\n",
    "\n",
    "df = pd.read_csv('PsuDataset.csv', encoding = 'unicode_escape')\n",
    "\n",
    "df['Power'] = df['Power'].str.replace(' W', '')\n",
    "\n",
    "df.to_csv('psu_dataset.csv', index=False)"
   ]
  }
 ],
 "metadata": {
  "kernelspec": {
   "display_name": "base",
   "language": "python",
   "name": "python3"
  },
  "language_info": {
   "codemirror_mode": {
    "name": "ipython",
    "version": 3
   },
   "file_extension": ".py",
   "mimetype": "text/x-python",
   "name": "python",
   "nbconvert_exporter": "python",
   "pygments_lexer": "ipython3",
   "version": "3.11.4"
  }
 },
 "nbformat": 4,
 "nbformat_minor": 2
}
